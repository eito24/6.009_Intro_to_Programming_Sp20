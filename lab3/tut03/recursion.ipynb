{
 "cells": [
  {
   "cell_type": "code",
   "execution_count": null,
   "metadata": {
    "collapsed": true,
    "scrolled": true
   },
   "outputs": [],
   "source": [
    "#utility to help visualize recursive calls (on stderr)\n",
    "from instrument import instrument "
   ]
  },
  {
   "cell_type": "code",
   "execution_count": null,
   "metadata": {
    "collapsed": true
   },
   "outputs": [],
   "source": [
    "instrument.SHOW_CALL = True\n",
    "instrument.SHOW_RET = True"
   ]
  },
  {
   "cell_type": "markdown",
   "metadata": {},
   "source": [
    "# Recursion and Recursive Patterns\n",
    "\n",
    "### What is recursion?\n",
    "Generally, recursion occurs when something is defined in terms of itself. \n",
    "\n",
    "Consider `factorial` in a mathematical sense:\n",
    "$$\n",
    "n! = \\left\\{ \\begin{array}{ll}\n",
    "        1 & \\mbox{if $n = 0$} \\\\\n",
    "        n \\times (n - 1)! & \\mbox{otherwise}\n",
    "        \\end{array} \\right.       $$\n",
    "We can implement that idea recursively in python:"
   ]
  },
  {
   "cell_type": "code",
   "execution_count": null,
   "metadata": {
    "collapsed": true
   },
   "outputs": [],
   "source": [
    "def factorial(n):\n",
    "    if n == 0:                #base case\n",
    "        return 1\n",
    "    return n * factorial(n-1) #recursive case"
   ]
  },
  {
   "cell_type": "code",
   "execution_count": null,
   "metadata": {
    "collapsed": true
   },
   "outputs": [],
   "source": []
  },
  {
   "cell_type": "markdown",
   "metadata": {},
   "source": [
    "### Ways to visualize recursive evaluation\n",
    "\n",
    "**Environment Model:**\n",
    "With the environment model, we can emulate what happens for something like `factorial(2)` -- and we see something very important and interesting. We see that the python *stack* keeps track of intermediate (partial) results while the recursive call does its work, and then when that recursive call returns, python finishes up by combining that returned result with the intermediate (partial) result.\n",
    "\n",
    "**Call/return tree:** An abstracted visualization/sketch of call (perhaps with intermediate calculations), and recursive calls as children of current function call. Recursion depth corresponds to depth of the tree.\n",
    "\n",
    "**Function entry and exit (our @instrument decorator):** A printed version of call entries and exits, with recursion depth shown by indentation."
   ]
  },
  {
   "cell_type": "code",
   "execution_count": null,
   "metadata": {
    "collapsed": true
   },
   "outputs": [],
   "source": [
    "@instrument\n",
    "def factorial(n):\n",
    "    if n == 0:                #base case\n",
    "        return 1\n",
    "    return n * factorial(n-1) #recursive case"
   ]
  },
  {
   "cell_type": "code",
   "execution_count": null,
   "metadata": {
    "collapsed": true
   },
   "outputs": [],
   "source": [
    "factorial(2)"
   ]
  },
  {
   "cell_type": "markdown",
   "metadata": {},
   "source": [
    "### Recursive patterns often include those operating on data structures (not just numbers).\n",
    "\n",
    "#### Walk the list to find the first value satisfying function `f`"
   ]
  },
  {
   "cell_type": "code",
   "execution_count": null,
   "metadata": {
    "collapsed": true
   },
   "outputs": [],
   "source": [
    "@instrument\n",
    "def walk_list(L, f):\n",
    "    \"\"\"Walk a list -- in a recursive style. Note that this is done as a\n",
    "    stepping stone toward other recursive functions, and so does not\n",
    "    use easier/direct built-in list functions.\n",
    "    \n",
    "    In this first version -- walk the list just to find/return the\n",
    "    FIRST item that satisfies some condition, where f(item) is true.\n",
    "    \n",
    "    >>> walk_list([1, 2, 3], lambda x: x > 2)\n",
    "    3\n",
    "    \"\"\"\n",
    "    pass"
   ]
  },
  {
   "cell_type": "code",
   "execution_count": null,
   "metadata": {
    "collapsed": true
   },
   "outputs": [],
   "source": [
    "walk_list([1, 2, 3], lambda x: x > 2)"
   ]
  },
  {
   "cell_type": "markdown",
   "metadata": {},
   "source": [
    "#### Walk a list, but now returning a <em>list</em> of items that satisfy `f` -- uses stack\n",
    "Here the stack is used to remember and build on intermediate results."
   ]
  },
  {
   "cell_type": "code",
   "execution_count": null,
   "metadata": {
    "collapsed": true
   },
   "outputs": [],
   "source": [
    "@instrument\n",
    "def walk_list_filter1(L, f):\n",
    "    \"\"\" Walk a list, returning a list of items that satisfy the\n",
    "    condition f.\n",
    "\n",
    "    This implementation uses the stack to hold intermediate results,\n",
    "    and completes construction of the return list upon return of\n",
    "    the recursive call.\n",
    "\n",
    "    >>> walk_list_filter1([1, 2, 3], lambda x: x % 2 == 1) #odd only\n",
    "    [1, 3]\n",
    "    \"\"\"\n",
    "    pass"
   ]
  },
  {
   "cell_type": "code",
   "execution_count": null,
   "metadata": {
    "collapsed": true
   },
   "outputs": [],
   "source": [
    "walk_list_filter1([1, 2, 3], lambda x: x % 2 == 1)"
   ]
  },
  {
   "cell_type": "markdown",
   "metadata": {},
   "source": [
    "#### Walk a list, returning a list of items that satisfy `f` -- uses helper with a \"so_far\" argument"
   ]
  },
  {
   "cell_type": "code",
   "execution_count": null,
   "metadata": {
    "collapsed": true
   },
   "outputs": [],
   "source": [
    "@instrument\n",
    "def walk_list_filter2(L, f):\n",
    "    \"\"\" Walk a list, returning a list of items that satisfy the\n",
    "    condition f.\n",
    "\n",
    "    This implementation uses a helper with an explicit 'so far'\n",
    "    variable, that holds the return value as it is being built\n",
    "    up incrementally on each call.\n",
    "\n",
    "    >>> walk_list_filter2([1, 2, 3], lambda x: x % 2 == 1)\n",
    "    [1, 3]\n",
    "    \"\"\"\n",
    "    @instrument\n",
    "    def helper(L, so_far):\n",
    "        pass\n",
    "    \n",
    "    return helper(L, [])"
   ]
  },
  {
   "cell_type": "code",
   "execution_count": null,
   "metadata": {
    "collapsed": true,
    "scrolled": true
   },
   "outputs": [],
   "source": [
    "walk_list_filter2([1, 2, 3], lambda x: x % 2 == 1)"
   ]
  },
  {
   "cell_type": "markdown",
   "metadata": {},
   "source": [
    "Note the difference in how this works. `walk_list_filter2` builds up the result as an evolving argument to `helper`. \n",
    "When we're done, the stack does nothing more than keep passing that result back up the call chain (i.e., is written in \n",
    "a tail-recursive fashion). \n",
    "In contrast, `walk_list_filter1` uses the stack to hold partial results, and then does further work to \n",
    "build or complete the result after each recursive call returns."
   ]
  },
  {
   "cell_type": "markdown",
   "metadata": {},
   "source": [
    "### Now consider some functions that recurse on trees...\n",
    "We want to extend the basic idea of recursive walkers and builders for lists, now to trees. We'll see the same patterns at work, but now often with more base cases and/or more recursive branch cases.\n",
    "\n",
    "For these examples, we need a simple tree structure. Here we'll represent a node in a tree as a list with the first element being the node value, and the rest of the list being the children nodes.\n",
    "That is to say, our tree structure is a simple nested list structure.\n",
    "<center><img src=\"resources/tree1.png\" alt=\"tree [13, [7], [8, [99], [16], [42]]]\" width=150></center>"
   ]
  },
  {
   "cell_type": "code",
   "execution_count": null,
   "metadata": {
    "collapsed": true
   },
   "outputs": [],
   "source": [
    "tree1 = [13,\n",
    "         [7],\n",
    "         [8, \n",
    "          [99],\n",
    "          [16, \n",
    "           [77]],\n",
    "          [42]]]\n",
    "tree1"
   ]
  },
  {
   "cell_type": "code",
   "execution_count": null,
   "metadata": {
    "collapsed": true
   },
   "outputs": [],
   "source": [
    "@instrument\n",
    "def tree_max(tree):\n",
    "    \"\"\"Walk a tree, returning the maximum value in the \n",
    "       (assumed non-empty) tree.\n",
    "    >>> tree_max([13, [7], [8, [99], [16, [77]], [42]]])\n",
    "    99    \n",
    "    \"\"\"\n",
    "    pass"
   ]
  },
  {
   "cell_type": "code",
   "execution_count": null,
   "metadata": {
    "collapsed": true,
    "scrolled": true
   },
   "outputs": [],
   "source": [
    "tree_max(tree1)"
   ]
  },
  {
   "cell_type": "code",
   "execution_count": null,
   "metadata": {
    "collapsed": true
   },
   "outputs": [],
   "source": [
    "@instrument\n",
    "def depth_tree(tree):\n",
    "    \"\"\" Walk a tree, returning the depth of the tree\n",
    "    >>> depth_tree([13, [7], [8, [99], [16, [77]], [42]]])\n",
    "    4\n",
    "    \"\"\"\n",
    "    pass"
   ]
  },
  {
   "cell_type": "code",
   "execution_count": null,
   "metadata": {
    "collapsed": true
   },
   "outputs": [],
   "source": [
    "depth_tree([13, [7], [8, [99], [16, [77]], [42]]])"
   ]
  },
  {
   "cell_type": "code",
   "execution_count": null,
   "metadata": {
    "collapsed": true
   },
   "outputs": [],
   "source": [
    "depth_tree._max_depth #@instrument tells us max recursion depth"
   ]
  },
  {
   "cell_type": "markdown",
   "metadata": {},
   "source": [
    "Notice that the recursion structure is exactly the same in both cases?  We could generalize to something like a `walk_tree` that took a tree *and* a function `f` (and perhaps some other base case values), and did that operation at each step. We'll leave that as an exercise for the reader. "
   ]
  },
  {
   "cell_type": "markdown",
   "metadata": {},
   "source": [
    "### Now a \"builder\" or \"maker\" function, that recursively *creates* a tree structure...\n",
    "\n",
    "This will be a simple binary tree with left and right branches balanced in terms of the number of nodes in each branch. \n",
    "\n",
    "`make_tree([1,2,3,4,5,6,7])` should return a tree `[1, [2, [3], [4]], [5, [6], [7]]]` corresponding to:\n",
    "<p>\n",
    "<center><img src=\"resources/balanced_tree.png\" alt=\"tree [1, [2, [3], [4]], [5, [6], [7]]]\" width=170></center>"
   ]
  },
  {
   "cell_type": "code",
   "execution_count": null,
   "metadata": {
    "collapsed": true
   },
   "outputs": [],
   "source": [
    "@instrument\n",
    "def make_tree(L):\n",
    "    \"\"\" Make and return a binary tree corresponding to the list. The\n",
    "    tree is \"binary\" in the sense that the number of left and right \n",
    "    branches are balanced as much as possible, but no condition is \n",
    "    imposed on the left/right values under each node in the tree.\n",
    "    \n",
    "    >>> make_tree([1,2,3,4,5,6,7])\n",
    "    [1, [2, [3], [4]], [5, [6], [7]]]\n",
    "    >>> make_tree([1,2])\n",
    "    [1, [2]]\n",
    "    \"\"\"\n",
    "    n = len(L)\n",
    "    pass"
   ]
  },
  {
   "cell_type": "code",
   "execution_count": null,
   "metadata": {
    "collapsed": true
   },
   "outputs": [],
   "source": [
    "tree2 = make_tree([1, 2, 3, 4, 5, 6, 7])\n",
    "tree2"
   ]
  },
  {
   "cell_type": "code",
   "execution_count": null,
   "metadata": {
    "collapsed": true
   },
   "outputs": [],
   "source": [
    "tree3 = make_tree([1, 2]) #unbalanced tree case\n",
    "tree3"
   ]
  },
  {
   "cell_type": "markdown",
   "metadata": {},
   "source": [
    "How many calls to `make_tree` do you expect for a list of length `n`?"
   ]
  },
  {
   "cell_type": "code",
   "execution_count": null,
   "metadata": {
    "collapsed": true,
    "scrolled": true
   },
   "outputs": [],
   "source": [
    "instrument.SHOW_CALL = True\n",
    "instrument.SHOW_RET = False"
   ]
  },
  {
   "cell_type": "code",
   "execution_count": null,
   "metadata": {
    "collapsed": true,
    "scrolled": true
   },
   "outputs": [],
   "source": [
    "make_tree._count = 0 #enabled by @instrument\n",
    "make_tree._max_depth = 0\n",
    "\n",
    "tree4 = make_tree(list(range(8)))\n",
    "tree4"
   ]
  },
  {
   "cell_type": "code",
   "execution_count": null,
   "metadata": {
    "collapsed": true
   },
   "outputs": [],
   "source": [
    "make_tree._count"
   ]
  },
  {
   "cell_type": "code",
   "execution_count": null,
   "metadata": {
    "collapsed": true
   },
   "outputs": [],
   "source": [
    "make_tree._max_depth"
   ]
  },
  {
   "cell_type": "markdown",
   "metadata": {},
   "source": [
    "Another recursive example -- a printed visualization of a tree"
   ]
  },
  {
   "cell_type": "code",
   "execution_count": null,
   "metadata": {
    "collapsed": true
   },
   "outputs": [],
   "source": [
    "def show_tree(tree):\n",
    "    \"\"\" Return a formatted string representation to visualize a tree \"\"\"\n",
    "    spaces = '   '\n",
    "    @instrument\n",
    "    def helper(tree, level):\n",
    "        if not tree:\n",
    "            return \"\"\n",
    "        val = tree[0]\n",
    "        children = tree[1:]\n",
    "        result = spaces*level + str(val) + '\\n'\n",
    "        for child in children:\n",
    "            result += helper(child, level+1)\n",
    "        return result\n",
    "    return helper(tree, 0)"
   ]
  },
  {
   "cell_type": "code",
   "execution_count": null,
   "metadata": {
    "collapsed": true
   },
   "outputs": [],
   "source": [
    "print(\"tree4:\", tree4, \"\\n\", show_tree(tree4))"
   ]
  },
  {
   "cell_type": "markdown",
   "metadata": {},
   "source": [
    "This `show_tree` implementation is actually very similar to the recursive structure used inside our `@instrument` decorator!  Feel free to look at that code and to use `instrument.py` in your own debugging, if you'd like."
   ]
  },
  {
   "cell_type": "markdown",
   "metadata": {},
   "source": [
    "### Finally, consider some functions that recurse on directed graphs...\n",
    "For this, we need a more sophisticated structure, since a node may be referenced from more than one other node. We'll represent a directed graph (also known as a \"digraph\") as a dictionary with node names as keys, and associated with the key is a list holding the node value and a list of children node names. The special name 'root' is the root of the graph.\n",
    "\n",
    "<center><img src=\"resources/graph1.png\" alt=\"graph1\" width=170></center>"
   ]
  },
  {
   "cell_type": "code",
   "execution_count": null,
   "metadata": {
    "collapsed": true
   },
   "outputs": [],
   "source": [
    "graph1 = {'root': [13, ['A', 'B']],\n",
    "          'A': [77, ['B', 'C']],\n",
    "          'B': [88, []],\n",
    "          'C': [-32, ['D']],\n",
    "          'D': [42, []]}"
   ]
  },
  {
   "cell_type": "code",
   "execution_count": null,
   "metadata": {
    "collapsed": true
   },
   "outputs": [],
   "source": [
    "@instrument\n",
    "def graph_max(graph):\n",
    "    \"\"\"Walk a graph, returning the maximum value in a (non-empty) graph.\n",
    "    First, we'll assume there are no cycles in the graph. \n",
    "    \"\"\"\n",
    "    @instrument\n",
    "    def node_max(node_name):\n",
    "        pass\n",
    "    \n",
    "    return node_max('root')"
   ]
  },
  {
   "cell_type": "code",
   "execution_count": null,
   "metadata": {
    "collapsed": true,
    "scrolled": true
   },
   "outputs": [],
   "source": [
    "instrument.SHOW_CALL = True\n",
    "instrument.SHOW_RET = True"
   ]
  },
  {
   "cell_type": "code",
   "execution_count": null,
   "metadata": {
    "collapsed": true
   },
   "outputs": [],
   "source": [
    "graph_max(graph1)"
   ]
  },
  {
   "cell_type": "markdown",
   "metadata": {},
   "source": [
    "What do we do if there *are* cycles in the graph? E.g.,\n",
    "\n",
    "<center><img src=\"resources/graph_cycle.png\" alt=\"graph with cycle\" width=200></center>"
   ]
  },
  {
   "cell_type": "code",
   "execution_count": null,
   "metadata": {
    "collapsed": true
   },
   "outputs": [],
   "source": [
    "graph2 = {'root': [13, ['A', 'B']],\n",
    "          'A': [77, ['B', 'C']],\n",
    "          'B': [88, []],\n",
    "          'C': [-32, ['D']],\n",
    "          'D': [42, ['A']]} #changed; now D -> A"
   ]
  },
  {
   "cell_type": "code",
   "execution_count": null,
   "metadata": {
    "collapsed": true
   },
   "outputs": [],
   "source": [
    "#graph_max(graph2) \n",
    "\n",
    "## breaks (infinite recursion)! \n",
    "## (need to re-execute def graph_max afterwards for instrumentation)"
   ]
  },
  {
   "cell_type": "code",
   "execution_count": null,
   "metadata": {
    "collapsed": true
   },
   "outputs": [],
   "source": [
    "@instrument\n",
    "def graph_max2(graph):\n",
    "    \"\"\"Walk a graph, returning the maximum value in a (non-empty) graph.\n",
    "    Now, however, there might be cycles, so need to be careful not to\n",
    "    get stuck in them!\n",
    "    \"\"\"\n",
    "    visited = set()\n",
    "    @instrument\n",
    "    def node_max(node_name):\n",
    "        visited.add(node_name)\n",
    "        val = graph[node_name][0]\n",
    "        children = graph[node_name][1]\n",
    "        new_children = [c for c in children if c not in visited]\n",
    "        if new_children:\n",
    "            return max(val, max(node_max(child) for child in new_children))\n",
    "        return val\n",
    "    return node_max('root')"
   ]
  },
  {
   "cell_type": "code",
   "execution_count": null,
   "metadata": {
    "collapsed": true
   },
   "outputs": [],
   "source": [
    "graph_max2(graph2)"
   ]
  },
  {
   "cell_type": "markdown",
   "metadata": {
    "collapsed": true
   },
   "source": [
    "### Circular Lists\n",
    "It's possible to create a simple python list that has itself as an element. In essence, that means that python lists themselves might be \"graphs\" and have cycles in them, not just have a tree-like structure!"
   ]
  },
  {
   "cell_type": "code",
   "execution_count": null,
   "metadata": {
    "collapsed": true
   },
   "outputs": [],
   "source": [
    "x = [0, 1, 2]\n",
    "x[1] = x\n",
    "print(\"x:\", x)\n",
    "print(\"x[1][1][1][1][1][1][1][1][1][1][2]:\", x[1][1][1][1][1][1][1][1][1][1][2])"
   ]
  },
  {
   "cell_type": "markdown",
   "metadata": {},
   "source": [
    "We'd like a version of `deep_copy_list` that could create a (separate standalone) copy of a recursive list, *with the same* structural sharing (including any cycles that might exist!) as in the original recursive list."
   ]
  },
  {
   "cell_type": "code",
   "execution_count": null,
   "metadata": {
    "collapsed": true
   },
   "outputs": [],
   "source": [
    "@instrument\n",
    "def deep_copy_list(old, copies=None):\n",
    "    if copies is None:\n",
    "        copies = {}\n",
    "\n",
    "    oid = id(old)      #get the unique python object-id for old\n",
    "\n",
    "    if oid in copies:  #base case: already copied object, just return it\n",
    "        return copies[oid]\n",
    "\n",
    "    if not isinstance(old, list):  #base case: not a list, remember & return it\n",
    "        copies[oid] = old\n",
    "        return copies[oid]\n",
    "    \n",
    "    #recursive case\n",
    "    copies[oid] = []\n",
    "    for e in old:\n",
    "        copies[oid].append(deep_copy_list(e, copies))\n",
    "    return copies[oid]"
   ]
  },
  {
   "cell_type": "code",
   "execution_count": null,
   "metadata": {
    "collapsed": true
   },
   "outputs": [],
   "source": [
    "y = deep_copy_list(x)\n",
    "y[0] = 'zero'\n",
    "print(\"x:\", x)\n",
    "print(\"y:\", y)\n",
    "print(\"y[1][1][1][1][1][1][1][1][1][1][2]:\", y[1][1][1][1][1][1][1][1][1][1][2])"
   ]
  },
  {
   "cell_type": "code",
   "execution_count": null,
   "metadata": {
    "collapsed": true
   },
   "outputs": [],
   "source": []
  }
 ],
 "metadata": {
  "kernelspec": {
   "display_name": "Python 3",
   "language": "python",
   "name": "python3"
  },
  "language_info": {
   "codemirror_mode": {
    "name": "ipython",
    "version": 3
   },
   "file_extension": ".py",
   "mimetype": "text/x-python",
   "name": "python",
   "nbconvert_exporter": "python",
   "pygments_lexer": "ipython3",
   "version": "3.6.4"
  }
 },
 "nbformat": 4,
 "nbformat_minor": 2
}
